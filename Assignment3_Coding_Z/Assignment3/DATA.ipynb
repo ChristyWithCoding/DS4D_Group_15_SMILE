{
 "cells": [
  {
   "cell_type": "markdown",
   "source": [
    "# 1. Data Preprocessing (From Ruishen)"
   ],
   "metadata": {
    "collapsed": false
   }
  },
  {
   "cell_type": "code",
   "execution_count": null,
   "outputs": [],
   "source": [
    "import pandas as pd\n",
    "import numpy as np\n",
    "import matplotlib.pyplot as plt\n",
    "import seaborn as sns   \n",
    "\n",
    "data=pd.read_csv('ACData.csv')\n",
    "data=data[['ServiceName','StartTime','Gender','DisablingConditions','AgeGroup','Geog']]\n",
    "data['StartTime']=pd.to_datetime(data['StartTime'],format='%Y/%m/%d %H:%M')\n",
    "data['hour']=data['StartTime'].apply(lambda x: x.strftime('%H'))\n",
    "data['month']=data['StartTime'].apply(lambda x: x.strftime('%m'))\n",
    "data.head()"
   ],
   "metadata": {
    "collapsed": false,
    "pycharm": {
     "name": "#%%\n"
    }
   }
  },
  {
   "cell_type": "code",
   "execution_count": null,
   "outputs": [],
   "source": [
    "data=data.replace('Alarm','General Alarm')\n",
    "data=data.loc[data['ServiceName']!='Helenvale Alarm']\n",
    "data.DisablingConditions.value_counts()"
   ],
   "metadata": {
    "collapsed": false,
    "pycharm": {
     "name": "#%%\n"
    }
   }
  },
  {
   "cell_type": "code",
   "execution_count": null,
   "outputs": [],
   "source": [
    "data=data.replace(['Physical Injury','COPD','Spina Bifida','Spinal Injury','Arthritis','Asthma','Visual Impairment','Cancer','Amputee',\n",
    "                   'Spina Bifida                                      ,Spina Bifida',\n",
    "                  'Elderly Care/Support','Diabetes','Stroke','Lifelong Mobility Issues'],'Physically Affected')\n",
    "data=data.replace(['Epilepsy','Mental Health Issues','Learning Difficulties',\n",
    "                  'Epilepsy                                          ,Epilepsy',\n",
    "                  'OCD','Bi Polar Disorder'],'Mentally Affected')\n",
    "data=data.replace(['Cerebral Palsy','Multiple Sclerosis','Brain Injury',\"Huntington's\",\n",
    "                   \"Huntingtons                                       ,Huntington's, Prone to Falls                                    ,Huntington's\",\n",
    "                  \"Incontinence                                      ,Cerebral Palsy, Poor mobility                                     ,Cerebral Palsy\",\n",
    "                  'Parkinsons',\n",
    "                   \"Arthitis                                          ,Cerebral Palsy, Blind                                             ,Cerebral Palsy, Hearing Impairment                                ,Cerebral Palsy\",\n",
    "                  \"Incontinence                                      ,Multiple Sclerosis, Multiple Sclerosis                                ,Multiple Sclerosis, Poor mobility                                     ,Multiple Sclerosis, Skin Issues                                       ,Multiple Sclerosis\",\n",
    "                  'Stroke                                            ,Brain Injury',\n",
    "                  'Parkinsons                                        ,Parkinsons',\n",
    "                  'Cerebal Palsy                                     ,Cerebral Palsy'],'Physically and Mentally Affected')\n"
   ],
   "metadata": {
    "collapsed": false,
    "pycharm": {
     "name": "#%%\n"
    }
   }
  },
  {
   "cell_type": "code",
   "execution_count": null,
   "outputs": [],
   "source": [
    "data=data.replace(['30~39','40~49','50~59'],'30-59')\n",
    "data=data.replace(['60~69','70~79','80~89','>90'],'>60')"
   ],
   "metadata": {
    "collapsed": false,
    "pycharm": {
     "name": "#%%\n"
    }
   }
  },
  {
   "cell_type": "code",
   "execution_count": null,
   "outputs": [],
   "source": [
    "data.head()"
   ],
   "metadata": {
    "collapsed": false,
    "pycharm": {
     "name": "#%%\n"
    }
   }
  },
  {
   "cell_type": "code",
   "execution_count": null,
   "outputs": [],
   "source": [
    "plt.figure(figsize=(10,5))\n",
    "sns.countplot(x='month',hue='Geog',data=data)\n",
    "plt.grid(ls = '--')"
   ],
   "metadata": {
    "collapsed": false,
    "pycharm": {
     "name": "#%%\n"
    }
   }
  },
  {
   "cell_type": "code",
   "execution_count": null,
   "outputs": [],
   "source": [
    "data_East=data.loc[data['Geog']=='East']\n",
    "data_East.to_csv('data_East')"
   ],
   "metadata": {
    "collapsed": false,
    "pycharm": {
     "name": "#%%\n"
    }
   }
  },
  {
   "cell_type": "code",
   "execution_count": null,
   "outputs": [],
   "source": [
    "data_East=data_East.drop(columns=['Geog','StartTime'])\n",
    "data_East.head()"
   ],
   "metadata": {
    "collapsed": false,
    "pycharm": {
     "name": "#%%\n"
    }
   }
  },
  {
   "cell_type": "code",
   "execution_count": null,
   "outputs": [],
   "source": [
    "data_East_Gender=data_East.groupby(['month','hour','Gender'],as_index=False).count()\n",
    "data_East_Gender['Counting']=data_East_Gender['ServiceName']\n",
    "data_East_Gender=data_East_Gender.drop(columns=['ServiceName','DisablingConditions','AgeGroup'])\n",
    "data_East_Gender.to_csv('data_East_Gender')\n",
    "\n",
    "data_East_ServiceName=data_East.groupby(['month','hour','ServiceName'],as_index=False).count()\n",
    "data_East_ServiceName['Counting']=data_East_ServiceName['Gender']\n",
    "data_East_ServiceName=data_East_ServiceName.drop(columns=['Gender','DisablingConditions','AgeGroup'])\n",
    "data_East_ServiceName.to_csv('data_East_ServiceName')\n",
    "\n",
    "data_East_DisablingConditions=data_East.groupby(['month','hour','DisablingConditions'],as_index=False).count()\n",
    "data_East_DisablingConditions['Counting']=data_East_DisablingConditions['Gender']\n",
    "data_East_DisablingConditions=data_East_DisablingConditions.drop(columns=['Gender','ServiceName','AgeGroup'])\n",
    "data_East_DisablingConditions.to_csv('data_East_DisablingConditions')\n",
    "\n",
    "data_East_AgeGroup=data_East.groupby(['month','hour','AgeGroup'],as_index=False).count()\n",
    "data_East_AgeGroup['Counting']=data_East_AgeGroup['Gender']\n",
    "data_East_AgeGroup=data_East_AgeGroup.drop(columns=['Gender','ServiceName','DisablingConditions'])\n",
    "data_East_AgeGroup.to_csv('data_East_AgeGroup')\n",
    "\n",
    "# 2. Processing Game Data (From Zhiyuan Du)"
   ],
   "metadata": {
    "collapsed": false,
    "pycharm": {
     "name": "#%%\n"
    }
   }
  },
  {
   "cell_type": "markdown",
   "source": [
    "## 1) Clean the \"DisabilingConditions\" and \"AgeGroup\""
   ],
   "metadata": {
    "collapsed": false
   }
  },
  {
   "cell_type": "code",
   "execution_count": null,
   "outputs": [],
   "source": [
    "# Change the \"Physically and Mentally Affected\" to \"Physically Affected\"\n",
    "data = data.replace(['Multiple Sclerosis                                ,Multiple Sclerosis', 'Physically and Mentally Affected', 'Brain Injury                                      ,Stroke'], 'Physically Affected')\n",
    "# Change the \"Physically and Mentally Affected\" to \"Physically Affected\"\n",
    "data = data.replace(['Mentally Affected', 'Multiple Sclerosis'], 'Physically Not Affected')"
   ],
   "metadata": {
    "collapsed": false,
    "pycharm": {
     "name": "#%%\n"
    }
   }
  },
  {
   "cell_type": "code",
   "execution_count": null,
   "outputs": [],
   "source": [
    "data['DisablingConditions'].value_counts()"
   ],
   "metadata": {
    "collapsed": false,
    "pycharm": {
     "name": "#%%\n"
    }
   }
  },
  {
   "cell_type": "code",
   "execution_count": null,
   "outputs": [],
   "source": [
    "# Drop the \"None\" type in \"DisablingConditions\"\n",
    "data = data[~data['DisablingConditions'].str.contains('None', regex=False)]\n",
    "data['DisablingConditions'].value_counts()"
   ],
   "metadata": {
    "collapsed": false,
    "pycharm": {
     "name": "#%%\n"
    }
   }
  },
  {
   "cell_type": "code",
   "execution_count": null,
   "outputs": [],
   "source": [
    "data.head()"
   ],
   "metadata": {
    "collapsed": false,
    "pycharm": {
     "name": "#%%\n"
    }
   }
  },
  {
   "cell_type": "markdown",
   "source": [
    "## 2) Divide the data based on different regions and different month"
   ],
   "metadata": {
    "collapsed": false
   }
  },
  {
   "cell_type": "markdown",
   "source": [
    "### 1. East Data"
   ],
   "metadata": {
    "collapsed": false
   }
  },
  {
   "cell_type": "code",
   "execution_count": null,
   "outputs": [],
   "source": [
    "eastDf = data.loc[data['Geog']=='East']\n",
    "eastDf.reset_index(inplace=True, drop=True)\n",
    "eastDf.head()",
    "eastDf.ServiceName.value_counts()"
   ],
   "metadata": {
    "collapsed": false,
    "pycharm": {
     "name": "#%%\n"
    }
   }
  },
  {
   "cell_type": "code",
   "execution_count": null,
   "outputs": [],
   "source": [
    "# Check which month has the largest number of rows\n",
    "eastDf.groupby('month').count()"
   ],
   "metadata": {
    "collapsed": false,
    "pycharm": {
     "name": "#%%\n"
    }
   }
  },
  {
   "cell_type": "code",
   "execution_count": null,
   "outputs": [],
   "source": [
    "# East Month 1 data:\n",
    "eastDf_1 = eastDf.loc[eastDf['month']=='01']\n",
    "eastDf_1.reset_index(inplace=True, drop=True)\n",
    "eastDf_1.head()"
   ],
   "metadata": {
    "collapsed": false,
    "pycharm": {
     "name": "#%%\n"
    }
   }
  },
  {
   "cell_type": "code",
   "execution_count": null,
   "outputs": [],
   "source": [
    "# East Month 2 data:\n",
    "eastDf_2 = eastDf.loc[eastDf['month']=='02']\n",
    "eastDf_2.reset_index(inplace=True, drop=True)\n",
    "eastDf_2.head()"
   ],
   "metadata": {
    "collapsed": false,
    "pycharm": {
     "name": "#%%\n"
    }
   }
  },
  {
   "cell_type": "code",
   "execution_count": null,
   "outputs": [],
   "source": [
    "# East Month 3 data:\n",
    "eastDf_3 = eastDf.loc[eastDf['month']=='03']\n",
    "eastDf_3.reset_index(inplace=True, drop=True)\n",
    "eastDf_3.head()"
   ],
   "metadata": {
    "collapsed": false,
    "pycharm": {
     "name": "#%%\n"
    }
   }
  },
  {
   "cell_type": "code",
   "execution_count": null,
   "outputs": [],
   "source": [
    "# East Month 4 data:\n",
    "eastDf_4 = eastDf.loc[eastDf['month']=='04']\n",
    "eastDf_4.reset_index(inplace=True, drop=True)\n",
    "eastDf_4.head()"
   ],
   "metadata": {
    "collapsed": false,
    "pycharm": {
     "name": "#%%\n"
    }
   }
  },
  {
   "cell_type": "code",
   "execution_count": null,
   "outputs": [],
   "source": [
    "# East Month 5 data:\n",
    "eastDf_5 = eastDf.loc[eastDf['month']=='05']\n",
    "eastDf_5.reset_index(inplace=True, drop=True)\n",
    "eastDf_5.head()"
   ],
   "metadata": {
    "collapsed": false,
    "pycharm": {
     "name": "#%%\n"
    }
   }
  },
  {
   "cell_type": "code",
   "execution_count": null,
   "outputs": [],
   "source": [
    "# East Month 6 data:\n",
    "eastDf_6 = eastDf.loc[eastDf['month']=='06']\n",
    "eastDf_6.reset_index(inplace=True, drop=True)\n",
    "eastDf_6.head()"
   ],
   "metadata": {
    "collapsed": false,
    "pycharm": {
     "name": "#%%\n"
    }
   }
  },
  {
   "cell_type": "code",
   "execution_count": null,
   "outputs": [],
   "source": [
    "# East Month 7 data:\n",
    "eastDf_7 = eastDf.loc[eastDf['month']=='07']\n",
    "eastDf_7.reset_index(inplace=True, drop=True)\n",
    "eastDf_7.head()"
   ],
   "metadata": {
    "collapsed": false,
    "pycharm": {
     "name": "#%%\n"
    }
   }
  },
  {
   "cell_type": "code",
   "execution_count": null,
   "outputs": [],
   "source": [
    "# East Month 8 data:\n",
    "eastDf_8 = eastDf.loc[eastDf['month']=='08']\n",
    "eastDf_8.reset_index(inplace=True, drop=True)\n",
    "eastDf_8.head()"
   ],
   "metadata": {
    "collapsed": false,
    "pycharm": {
     "name": "#%%\n"
    }
   }
  },
  {
   "cell_type": "code",
   "execution_count": null,
   "outputs": [],
   "source": [
    "# East Month 9 data:\n",
    "eastDf_9 = eastDf.loc[eastDf['month']=='09']\n",
    "eastDf_9.reset_index(inplace=True, drop=True)\n",
    "eastDf_9.head()"
   ],
   "metadata": {
    "collapsed": false,
    "pycharm": {
     "name": "#%%\n"
    }
   }
  },
  {
   "cell_type": "code",
   "execution_count": null,
   "outputs": [],
   "source": [
    "# East Month 10 data:\n",
    "eastDf_10 = eastDf.loc[eastDf['month']=='10']\n",
    "eastDf_10.reset_index(inplace=True, drop=True)\n",
    "eastDf_10.head()"
   ],
   "metadata": {
    "collapsed": false,
    "pycharm": {
     "name": "#%%\n"
    }
   }
  },
  {
   "cell_type": "code",
   "execution_count": null,
   "outputs": [],
   "source": [
    "# East Month 11 data:\n",
    "eastDf_11 = eastDf.loc[eastDf['month']=='11']\n",
    "eastDf_11.reset_index(inplace=True, drop=True)\n",
    "eastDf_11.head()"
   ],
   "metadata": {
    "collapsed": false,
    "pycharm": {
     "name": "#%%\n"
    }
   }
  },
  {
   "cell_type": "code",
   "execution_count": null,
   "outputs": [],
   "source": [
    "# East Month 12 data:\n",
    "eastDf_12 = eastDf.loc[eastDf['month']=='12']\n",
    "eastDf_12.reset_index(inplace=True, drop=True)\n",
    "eastDf_12.head()"
   ],
   "metadata": {
    "collapsed": false,
    "pycharm": {
     "name": "#%%\n"
    }
   }
  },
  {
   "cell_type": "markdown",
   "source": [
    "### 2. North Data"
   ],
   "metadata": {
    "collapsed": false
   }
  },
  {
   "cell_type": "code",
   "execution_count": null,
   "outputs": [],
   "source": [
    "northDf = data.loc[data['Geog']=='North']\n",
    "northDf.head()"
   ],
   "metadata": {
    "collapsed": false,
    "pycharm": {
     "name": "#%%\n"
    }
   }
  },
  {
   "cell_type": "code",
   "execution_count": null,
   "outputs": [],
   "source": [
    "# Check which month has the largest number of rows\n",
    "northDf.groupby('month').count()"
   ],
   "metadata": {
    "collapsed": false,
    "pycharm": {
     "name": "#%%\n"
    }
   }
  },
  {
   "cell_type": "code",
   "execution_count": null,
   "outputs": [],
   "source": [
    "# North Month 1 data:\n",
    "northDf_1 = northDf.loc[northDf['month']=='01']\n",
    "northDf_1.reset_index(inplace=True, drop=True)\n",
    "northDf_1.head()"
   ],
   "metadata": {
    "collapsed": false,
    "pycharm": {
     "name": "#%%\n"
    }
   }
  },
  {
   "cell_type": "code",
   "execution_count": null,
   "outputs": [],
   "source": [
    "# North Month 2 data:\n",
    "northDf_2 = northDf.loc[northDf['month']=='02']\n",
    "northDf_2.reset_index(inplace=True, drop=True)\n",
    "northDf_2.head()"
   ],
   "metadata": {
    "collapsed": false,
    "pycharm": {
     "name": "#%%\n"
    }
   }
  },
  {
   "cell_type": "code",
   "execution_count": null,
   "outputs": [],
   "source": [
    "# North Month 3 data:\n",
    "northDf_3 = northDf.loc[northDf['month']=='03']\n",
    "northDf_3.reset_index(inplace=True, drop=True)\n",
    "northDf_3.head()"
   ],
   "metadata": {
    "collapsed": false,
    "pycharm": {
     "name": "#%%\n"
    }
   }
  },
  {
   "cell_type": "code",
   "execution_count": null,
   "outputs": [],
   "source": [
    "# North Month 4 data:\n",
    "northDf_4 = northDf.loc[northDf['month']=='04']\n",
    "northDf_4.reset_index(inplace=True, drop=True)\n",
    "northDf_4.head()"
   ],
   "metadata": {
    "collapsed": false,
    "pycharm": {
     "name": "#%%\n"
    }
   }
  },
  {
   "cell_type": "code",
   "execution_count": null,
   "outputs": [],
   "source": [
    "# North Month 5 data:\n",
    "northDf_5 = northDf.loc[northDf['month']=='05']\n",
    "northDf_5.reset_index(inplace=True, drop=True)\n",
    "northDf_5.head()",
    "northDf.ServiceName.value_counts()"
   ],
   "metadata": {
    "collapsed": false,
    "pycharm": {
     "name": "#%%\n"
    }
   }
  },
  {
   "cell_type": "code",
   "execution_count": null,
   "outputs": [],
   "source": [
    "# North Month 6 data:\n",
    "northDf_6 = northDf.loc[northDf['month']=='06']\n",
    "northDf_6.reset_index(inplace=True, drop=True)\n",
    "northDf_6.head()"
   ],
   "metadata": {
    "collapsed": false,
    "pycharm": {
     "name": "#%%\n"
    }
   }
  },
  {
   "cell_type": "code",
   "execution_count": null,
   "outputs": [],
   "source": [
    "# North Month 7 data:\n",
    "northDf_7 = northDf.loc[northDf['month']=='07']\n",
    "northDf_7.reset_index(inplace=True, drop=True)\n",
    "northDf_7.head()"
   ],
   "metadata": {
    "collapsed": false,
    "pycharm": {
     "name": "#%%\n"
    }
   }
  },
  {
   "cell_type": "code",
   "execution_count": null,
   "outputs": [],
   "source": [
    "# North Month 8 data:\n",
    "northDf_8 = northDf.loc[northDf['month']=='08']\n",
    "northDf_8.reset_index(inplace=True, drop=True)\n",
    "northDf_8.head()"
   ],
   "metadata": {
    "collapsed": false,
    "pycharm": {
     "name": "#%%\n"
    }
   }
  },
  {
   "cell_type": "code",
   "execution_count": null,
   "outputs": [],
   "source": [
    "# North Month 9  data:\n",
    "northDf_9 = northDf.loc[northDf['month']=='09']\n",
    "northDf_9.reset_index(inplace=True, drop=True)\n",
    "northDf_9.head()"
   ],
   "metadata": {
    "collapsed": false,
    "pycharm": {
     "name": "#%%\n"
    }
   }
  },
  {
   "cell_type": "code",
   "execution_count": null,
   "outputs": [],
   "source": [
    "# North Month 10 data:\n",
    "northDf_10 = northDf.loc[northDf['month']=='10']\n",
    "northDf_10.reset_index(inplace=True, drop=True)\n",
    "northDf_10.head()"
   ],
   "metadata": {
    "collapsed": false,
    "pycharm": {
     "name": "#%%\n"
    }
   }
  },
  {
   "cell_type": "code",
   "execution_count": null,
   "outputs": [],
   "source": [
    "# North Month 11 data:\n",
    "northDf_11 = northDf.loc[northDf['month']=='11']\n",
    "northDf_11.reset_index(inplace=True, drop=True)\n",
    "northDf_11.head()"
   ],
   "metadata": {
    "collapsed": false,
    "pycharm": {
     "name": "#%%\n"
    }
   }
  },
  {
   "cell_type": "code",
   "execution_count": null,
   "outputs": [],
   "source": [
    "# North Month 12 data:\n",
    "northDf_12 = northDf.loc[northDf['month']=='12']\n",
    "northDf_12.reset_index(inplace=True, drop=True)\n",
    "northDf_12.head()"
   ],
   "metadata": {
    "collapsed": false,
    "pycharm": {
     "name": "#%%\n"
    }
   }
  },
  {
   "cell_type": "markdown",
   "source": [
    "### 3. West Data"
   ],
   "metadata": {
    "collapsed": false
   }
  },
  {
   "cell_type": "code",
   "execution_count": null,
   "outputs": [],
   "source": [
    "westDf = data.loc[data['Geog']=='West']\n",
    "westDf.head()"
   ],
   "metadata": {
    "collapsed": false,
    "pycharm": {
     "name": "#%%\n"
    }
   }
  },
  {
   "cell_type": "code",
   "execution_count": null,
   "outputs": [],
   "source": [
    "# Check which month has the largest number of rows\n",
    "westDf.groupby('month').count()"
   ],
   "metadata": {
    "collapsed": false,
    "pycharm": {
     "name": "#%%\n"
    }
   }
  },
  {
   "cell_type": "code",
   "execution_count": null,
   "outputs": [],
   "source": [
    "# West Month 1 data:\n",
    "westDf_1 = westDf.loc[westDf['month']=='01']\n",
    "westDf_1.reset_index(inplace=True, drop=True)\n",
    "westDf_1.head()"
   ],
   "metadata": {
    "collapsed": false,
    "pycharm": {
     "name": "#%%\n"
    }
   }
  },
  {
   "cell_type": "code",
   "execution_count": null,
   "outputs": [],
   "source": [
    "# West Month 2 data:\n",
    "westDf_2 = westDf.loc[westDf['month']=='02']\n",
    "westDf_2.reset_index(inplace=True, drop=True)\n",
    "westDf_2.head()"
   ],
   "metadata": {
    "collapsed": false,
    "pycharm": {
     "name": "#%%\n"
    }
   }
  },
  {
   "cell_type": "code",
   "execution_count": null,
   "outputs": [],
   "source": [
    "# West Month 3 data:\n",
    "westDf_3 = westDf.loc[westDf['month']=='03']\n",
    "westDf_3.reset_index(inplace=True, drop=True)\n",
    "westDf_3.head()"
   ],
   "metadata": {
    "collapsed": false,
    "pycharm": {
     "name": "#%%\n"
    }
   }
  },
  {
   "cell_type": "code",
   "execution_count": null,
   "outputs": [],
   "source": [
    "# West Month 4 data:\n",
    "westDf_4 = westDf.loc[westDf['month']=='04']\n",
    "westDf_4.reset_index(inplace=True, drop=True)\n",
    "westDf_4.head()"
   ],
   "metadata": {
    "collapsed": false,
    "pycharm": {
     "name": "#%%\n"
    }
   }
  },
  {
   "cell_type": "code",
   "execution_count": null,
   "outputs": [],
   "source": [
    "# West Month 5 data:\n",
    "westDf_5 = westDf.loc[westDf['month']=='05']\n",
    "westDf_5.reset_index(inplace=True, drop=True)\n",
    "westDf_5.head()"
   ],
   "metadata": {
    "collapsed": false,
    "pycharm": {
     "name": "#%%\n"
    }
   }
  },
  {
   "cell_type": "code",
   "execution_count": null,
   "outputs": [],
   "source": [
    "# West Month 6 data:\n",
    "westDf_6 = westDf.loc[westDf['month']=='06']\n",
    "westDf_6.reset_index(inplace=True, drop=True)\n",
    "westDf_6.head()"
   ],
   "metadata": {
    "collapsed": false,
    "pycharm": {
     "name": "#%%\n"
    }
   }
  },
  {
   "cell_type": "code",
   "execution_count": null,
   "outputs": [],
   "source": [
    "# West Month 7 data:\n",
    "westDf_7 = westDf.loc[westDf['month']=='07']\n",
    "westDf_7.reset_index(inplace=True, drop=True)\n",
    "westDf_7.head()"
   ],
   "metadata": {
    "collapsed": false,
    "pycharm": {
     "name": "#%%\n"
    }
   }
  },
  {
   "cell_type": "code",
   "execution_count": null,
   "outputs": [],
   "source": [
    "# West Month 8 data:\n",
    "westDf_8 = westDf.loc[westDf['month']=='08']\n",
    "westDf_8.reset_index(inplace=True, drop=True)\n",
    "westDf_8.head()"
   ],
   "metadata": {
    "collapsed": false,
    "pycharm": {
     "name": "#%%\n"
    }
   }
  },
  {
   "cell_type": "code",
   "execution_count": null,
   "outputs": [],
   "source": [
    "# West Month 9 data:\n",
    "westDf_9 = westDf.loc[westDf['month']=='09']\n",
    "westDf_9.reset_index(inplace=True, drop=True)\n",
    "westDf_9.head()"
   ],
   "metadata": {
    "collapsed": false,
    "pycharm": {
     "name": "#%%\n"
    }
   }
  },
  {
   "cell_type": "code",
   "execution_count": null,
   "outputs": [],
   "source": [
    "# West Month 10 data:\n",
    "westDf_10 = westDf.loc[westDf['month']=='10']\n",
    "westDf_10.reset_index(inplace=True, drop=True)\n",
    "westDf_10.head()"
   ],
   "metadata": {
    "collapsed": false,
    "pycharm": {
     "name": "#%%\n"
    }
   }
  },
  {
   "cell_type": "code",
   "execution_count": null,
   "outputs": [],
   "source": [
    "# West Month 11 data:\n",
    "westDf_11 = westDf.loc[westDf['month']=='11']\n",
    "westDf_11.reset_index(inplace=True, drop=True)\n",
    "westDf_11.head()"
   ],
   "metadata": {
    "collapsed": false,
    "pycharm": {
     "name": "#%%\n"
    }
   }
  },
  {
   "cell_type": "code",
   "execution_count": null,
   "outputs": [],
   "source": [
    "# West Month 12 data:\n",
    "westDf_12 = westDf.loc[westDf['month']=='12']\n",
    "westDf_12.reset_index(inplace=True, drop=True)\n",
    "westDf_12.head()"
   ],
   "metadata": {
    "collapsed": false,
    "pycharm": {
     "name": "#%%\n"
    }
   }
  },
  {
   "cell_type": "code",
   "execution_count": null,
   "outputs": [],
   "source": [
    "# All boolean mask\n",
    "Female = eastDf_3['Gender']=='F'\n",
    "Male = eastDf_3['Gender']=='M'\n",
    "Affected = eastDf_3['DisablingConditions']=='Physically Affected'\n",
    "Not_affected = eastDf_3['DisablingConditions']=='Physically Not Affected'\n",
    "less_than_60 = eastDf_3['AgeGroup']=='<60'\n",
    "more_than_60 = eastDf_3['AgeGroup']=='>60'\n",
    "\n",
    "# Differentiate between groups of data\n",
    "# Type 1:\n",
    "#eastDf_3.loc[Male & Affected & less_than_60]\n",
    "# Type 2:\n",
    "#eastDf_3.loc[Female & Affected & less_than_60]\n",
    "# Type 3:\n",
    "#eastDf_3.loc[Male & Not_affected & less_than_60]\n",
    "# Type 4:\n",
    "#eastDf_3.loc[Female & Not_affected & less_than_60]\n",
    "# Type 5:\n",
    "#eastDf_3.loc[Male & Affected & more_than_60]\n",
    "# Type 6:\n",
    "#eastDf_3.loc[Female & Affected & more_than_60]\n",
    "# Type 7:\n",
    "#eastDf_3.loc[Male & Not_affected & more_than_60]\n",
    "# Type 8:\n",
    "#eastDf_3.loc[Female & Not_affected & more_than_60]"
   ],
   "metadata": {
    "collapsed": false,
    "pycharm": {
     "name": "#%%\n"
    }
   }
  },
  {
   "cell_type": "markdown",
   "source": [
    "## 3) Create a Data Set for the Game"
   ],
   "metadata": {
    "collapsed": false
   }
  },
  {
   "cell_type": "code",
   "execution_count": null,
   "outputs": [],
   "source": [
    "# Check every month's data size to choose a month\n",
    "def choose_game_data(df):\n",
    "    # boolean mask:\n",
    "    Female = df['Gender']=='F'\n",
    "    Male = df['Gender']=='M'\n",
    "    Affected = df['DisablingConditions']=='Physically Affected'\n",
    "    Not_affected = df['DisablingConditions']=='Physically Not Affected'\n",
    "    less_than_60 = df['AgeGroup']=='<60'\n",
    "    more_than_60 = df['AgeGroup']=='>60'\n",
    "    # add a new column \"Type\" based on other three columns values:\n",
    "    df.loc[Male & Affected & less_than_60, 'Type'] = int(1)\n",
    "    df.loc[Female & Affected & less_than_60, 'Type'] = 2\n",
    "    df.loc[Male & Not_affected & less_than_60, 'Type'] = 3\n",
    "    df.loc[Female & Not_affected & less_than_60, 'Type'] = 4\n",
    "    df.loc[Male & Affected & more_than_60, 'Type'] = 5\n",
    "    df.loc[Female & Affected & more_than_60, 'Type'] = 6\n",
    "    df.loc[Male & Not_affected & more_than_60, 'Type'] = 7\n",
    "    df.loc[Female & Not_affected & more_than_60, 'Type'] = 8\n",
    "    # Double check the format of the \"Type\" column:\n",
    "    df['Type'] = df['Type'].astype(int)\n",
    "    # Drop the data not in the 07:00~22:00\n",
    "    df = df.loc[df['hour'].isin(['07', '08','09','10','11','12','13','14','15','16','17','18','19','20','21','22'])]\n",
    "    # View the proportional distribution of data over time\n",
    "    hour_count = pd.DataFrame(df.groupby('hour')['Time'].count())\n",
    "    hour_count = hour_count.rename(columns={\"Time\": \"Count\"})\n",
    "    print(hour_count)\n",
    "    return df, hour_count\n",
    "\n",
    "\n",
    "# Define Sample Function\n",
    "def typical_sampling(group, typicalFracDict):\n",
    "    name = group.name\n",
    "    frac = typicalFracDict[name]\n",
    "    return group.sample(frac=frac)\n",
    "\n",
    "# Define function to sample data from dataframe:\n",
    "def sample_from_df(df, df_count, sample_function):\n",
    "    sample_size = df_count / df_count.sum()\n",
    "    sample_size.to_dict()\n",
    "    sample_size = sample_size['Count']\n",
    "    sample_size = sample_size.to_dict()\n",
    "    sample_result = df.groupby('hour').apply(sample_function, sample_size)\n",
    "    return sample_result\n",
    "\n",
    "# Get the final data for game\n",
    "def create_game_data(df):\n",
    "    df_game = pd.DataFrame(df, columns=['Type', 'Time', 'ServiceName'])\n",
    "    df_game.reset_index(inplace=True, drop=True)\n",
    "    print(df_game.head())\n",
    "    return df_game\n",
    "\n",
    "\n",
    "# Clean the game data\n",
    "def clean_game_data(df_game):\n",
    "    # Sort the data based on \"Time\" in ascending order\n",
    "    df_game.sort_values(by='Time', ascending=True, inplace=True)\n",
    "    # Drop the duplicated values in the \"Time\" column\n",
    "    df_game.drop_duplicates(subset=['Time'], inplace=True)\n",
    "    # Reset the index\n",
    "    df_game.reset_index(drop=True, inplace=True)\n",
    "    return df_game\n",
    "\n",
    "\n",
    "# Import to CSV file\n",
    "def import_csv_file(game_df, filename):\n",
    "    game_df.to_csv(filename, index=False)"
   ],
   "metadata": {
    "collapsed": false,
    "pycharm": {
     "name": "#%%\n"
    }
   }
  },
  {
   "cell_type": "markdown",
   "source": [
    "### Avaliable Game Data"
   ],
   "metadata": {
    "collapsed": false
   }
  },
  {
   "cell_type": "code",
   "execution_count": null,
   "outputs": [],
   "source": [
    "# East October\n",
    "east10_month_df, east10_month_df_hour_count = choose_game_data(eastDf_10)\n",
    "east10_sample_result = sample_from_df(east10_month_df, east10_month_df_hour_count, typical_sampling)\n",
    "east10_game_df = create_game_data(east10_sample_result)\n",
    "east10_game_df = clean_game_data(east10_game_df)\n",
    "print(east10_game_df.count())\n",
    "east10_game_df\n",
    "#import_csv_file(east10_game_df, 'east10_game_df.csv')\n",
    "# 已导出（testcsv 桌面）"
   ],
   "metadata": {
    "collapsed": false,
    "pycharm": {
     "name": "#%%\n"
    }
   }
  },
  {
   "cell_type": "code",
   "execution_count": null,
   "outputs": [],
   "source": [
    "#### West March\n",
    "west3_month_df, west3_month_df_hour_count = choose_game_data(westDf_3)\n",
    "west3_sample_result = sample_from_df(west3_month_df, west3_month_df_hour_count, typical_sampling)\n",
    "west3_game_df = create_game_data(west3_sample_result)\n",
    "west3_game_df = clean_game_data(west3_game_df)\n",
    "print(west3_game_df.count())\n",
    "west3_game_df\n",
    "#import_csv_file(west3_game_df, 'west3_game_df.csv')\n",
    "# 已导出（testcsv pycharm）"
   ],
   "metadata": {
    "collapsed": false,
    "pycharm": {
     "name": "#%%\n"
    }
   }
  },
  {
   "cell_type": "code",
   "execution_count": null,
   "outputs": [],
   "source": [
    "# East December\n",
    "east12_month_df, east12_month_df_hour_count = choose_game_data(eastDf_12)\n",
    "east12_sample_result = sample_from_df(east12_month_df, east12_month_df_hour_count, typical_sampling)\n",
    "east12_game_df = create_game_data(east12_sample_result)\n",
    "east12_game_df = clean_game_data(east12_game_df)\n",
    "print(east12_game_df.count())\n",
    "east12_game_df\n",
    "#import_csv_file(east12_game_df, 'east12_game_df.csv')"
   ],
   "metadata": {
    "collapsed": false,
    "pycharm": {
     "name": "#%%\n"
    }
   }
  },
  {
   "cell_type": "code",
   "execution_count": null,
   "outputs": [],
   "source": [
    "# East December\n",
    "west5_month_df, west5_month_df_hour_count = choose_game_data(westDf_5)\n",
    "west5_sample_result = sample_from_df(west5_month_df, west5_month_df_hour_count, typical_sampling)\n",
    "west5_game_df = create_game_data(west5_sample_result)\n",
    "west5_game_df = clean_game_data(west5_game_df)\n",
    "print(west5_game_df.count())\n",
    "west5_game_df\n",
    "#import_csv_file(west5_game_df, 'west5_game_df.csv')"
   ],
   "metadata": {
    "collapsed": false,
    "pycharm": {
     "name": "#%%\n"
    }
   }
  },
  {
   "cell_type": "code",
   "execution_count": null,
   "outputs": [],
   "source": [
    "# West June\n",
    "west6_month_df, west6_month_df_hour_count = choose_game_data(westDf_6)\n",
    "west6_sample_result = sample_from_df(west6_month_df, west6_month_df_hour_count, typical_sampling)\n",
    "west6_game_df = create_game_data(west6_sample_result)\n",
    "west6_game_df = clean_game_data(west6_game_df)\n",
    "print(west6_game_df.count())\n",
    "west6_game_df\n",
    "#import_csv_file(west6_game_df, 'west6_game_df.csv')"
   ],
   "metadata": {
    "collapsed": false,
    "pycharm": {
     "name": "#%%\n"
    }
   }
  },
  {
   "cell_type": "code",
   "execution_count": null,
   "outputs": [],
   "source": [
    "# North Feburary\n",
    "north2_month_df, north2_month_df_hour_count = choose_game_data(northDf_2)\n",
    "north2_sample_result = sample_from_df(north2_month_df, north2_month_df_hour_count, typical_sampling)\n",
    "north2_game_df = create_game_data(north2_sample_result)\n",
    "north2_game_df = clean_game_data(north2_game_df)\n",
    "print(north2_game_df.count())\n",
    "north2_game_df\n",
    "#import_csv_file(north2_game_df, 'north2_game_df.csv')"
   ],
   "metadata": {
    "collapsed": false,
    "pycharm": {
     "name": "#%%\n"
    }
   }
  },
  {
   "cell_type": "code",
   "execution_count": null,
   "outputs": [],
   "source": [
    "#### West March\n",
    "west3_month_df, west3_month_df_hour_count = choose_game_data(westDf_3)\n",
    "west3_sample_result = sample_from_df(west3_month_df, west3_month_df_hour_count, typical_sampling)\n",
    "west3_game_df = create_game_data(west3_sample_result)\n",
    "west3_game_df = clean_game_data(west3_game_df)\n",
    "print(west3_game_df.count())\n",
    "west3_game_df\n",
    "import_csv_file(west3_game_df, 'west3_game_df.csv')"
   ],
   "metadata": {
    "collapsed": false,
    "pycharm": {
     "name": "#%%\n"
    }
   }
  },
  {
   "cell_type": "code",
   "execution_count": null,
   "outputs": [],
   "source": [
    "# East December\n",
    "east12_month_df, east12_month_df_hour_count = choose_game_data(eastDf_12)\n",
    "east12_sample_result = sample_from_df(east12_month_df, east12_month_df_hour_count, typical_sampling)\n",
    "east12_game_df = create_game_data(east12_sample_result)\n",
    "east12_game_df = clean_game_data(east12_sample_result)\n",
    "print(east12_game_df.count())\n",
    "east12_game_df\n",
    "#import_csv_file(east12_game_df, 'east12_game_df.csv')"
   ],
   "metadata": {
    "collapsed": false,
    "pycharm": {
     "name": "#%%\n"
    }
   }
  },
  {
   "cell_type": "code",
   "execution_count": null,
   "outputs": [],
   "source": [
    "# West May\n",
    "west5_month_df, west5_month_df_hour_count = choose_game_data(westDf_5)\n",
    "west5_sample_result = sample_from_df(west5_month_df, west5_month_df_hour_count, typical_sampling)\n",
    "west5_game_df = create_game_data(west5_sample_result)\n",
    "west5_game_df = clean_game_data(west5_sample_result)\n",
    "print(west5_game_df.count())\n",
    "west5_game_df\n",
    "#import_csv_file(west5_game_df, 'west5_game_df.csv')"
   ],
   "metadata": {
    "collapsed": false,
    "pycharm": {
     "name": "#%%\n"
    }
   }
  },
  {
   "cell_type": "code",
   "execution_count": null,
   "outputs": [],
   "source": [
    "# West June\n",
    "west6_month_df, west6_month_df_hour_count = choose_game_data(westDf_6)\n",
    "west6_sample_result = sample_from_df(west6_month_df, west6_month_df_hour_count, typical_sampling)\n",
    "west6_game_df = create_game_data(west6_sample_result)\n",
    "west6_game_df = clean_game_data(west6_sample_result)\n",
    "print(west6_game_df.count())\n",
    "west6_game_df\n",
    "#import_csv_file(west6_game_df, 'west6_game_df.csv')"
   ],
   "metadata": {
    "collapsed": false,
    "pycharm": {
     "name": "#%%\n"
    }
   }
  },
  {
   "cell_type": "code",
   "execution_count": null,
   "outputs": [],
   "source": [
    "# North Feburary\n",
    "north2_month_df, north2_month_df_hour_count = choose_game_data(northDf_2)\n",
    "north2_sample_result = sample_from_df(north2_month_df, north2_month_df_hour_count, typical_sampling)\n",
    "north2_game_df = create_game_data(north2_sample_result)\n",
    "north2_game_df = clean_game_data(north2_sample_result)\n",
    "print(north2_game_df.count())\n",
    "north2_game_df\n",
    "#import_csv_file(north2_game_df, 'north2_game_df.csv')"
   ],
   "metadata": {
    "collapsed": false,
    "pycharm": {
     "name": "#%%\n"
    }
   }
  },
  {
   "cell_type": "code",
   "execution_count": null,
   "outputs": [],
   "source": [
    "northDf_4\n",
    "# North April\n",
    "north4_month_df, north4_month_df_hour_count = choose_game_data(northDf_4)\n",
    "north4_sample_result = sample_from_df(north4_month_df, north4_month_df_hour_count, typical_sampling)\n",
    "north4_game_df = create_game_data(north4_sample_result)\n",
    "north4_game_df = clean_game_data(north4_game_df)\n",
    "print(north4_game_df.count())\n",
    "north4_game_df\n",
    "import_csv_file(north4_game_df, 'north4_game_df.csv')"
   ],
   "metadata": {
    "collapsed": false,
    "pycharm": {
     "name": "#%%\n"
    }
   }
  },
  {
   "cell_type": "code",
   "execution_count": null,
   "outputs": [],
   "source": [
    "# Visualisation for the Game Ending Scene\n",
    "north4_sample_result.reset_index(drop=True, inplace=True)\n",
    "north4_sample_result.head()"
   ],
   "metadata": {
    "collapsed": false,
    "pycharm": {
     "name": "#%%\n"
    }
   }
  },
  {
   "cell_type": "code",
   "execution_count": null,
   "outputs": [],
   "source": [
    "# ServiceName\n",
    "plt.figure(figsize=(10,5))\n",
    "fig = sns.countplot(x='hour',hue='ServiceName',data=north4_sample_result)\n",
    "plt.grid(ls = '--')\n",
    "show_values_on_bars(fig)"
   ],
   "metadata": {
    "collapsed": false,
    "pycharm": {
     "name": "#%%\n"
    }
   }
  },
  {
   "cell_type": "code",
   "execution_count": null,
   "outputs": [],
   "source": [
    "# ServiceName\n",
    "plt.figure(figsize=(10,5))\n",
    "fig = sns.countplot(x='hour',hue='Gender',data=north4_sample_result)\n",
    "plt.grid(ls = '--')\n",
    "show_values_on_bars(fig)"
   ],
   "metadata": {
    "collapsed": false,
    "pycharm": {
     "name": "#%%\n"
    }
   }
  },
  {
   "cell_type": "code",
   "execution_count": null,
   "outputs": [],
   "source": [
    "# ServiceName\n",
    "plt.figure(figsize=(10,5))\n",
    "fig = sns.countplot(x='hour',hue='AgeGroup',data=north4_sample_result)\n",
    "plt.grid(ls = '--')\n",
    "show_values_on_bars(fig)"
   ],
   "metadata": {
    "collapsed": false,
    "pycharm": {
     "name": "#%%\n"
    }
   }
  },
  {
   "cell_type": "code",
   "execution_count": null,
   "outputs": [],
   "source": [
    "# ServiceName\n",
    "plt.figure(figsize=(10,5))\n",
    "fig = sns.countplot(x='hour',hue='DisablingConditions',data=north4_sample_result)\n",
    "plt.grid(ls = '--')\n",
    "show_values_on_bars(fig)"
   ],
   "metadata": {
    "collapsed": false,
    "pycharm": {
     "name": "#%%\n"
    }
   }
  },
  {
   "cell_type": "markdown",
   "source": [
    "# Visualisation for the Game"
   ],
   "metadata": {
    "collapsed": false
   }
  },
  {
   "cell_type": "markdown",
   "source": [
    "## Statistical charts at the regional level"
   ],
   "metadata": {
    "collapsed": false
   }
  },
  {
   "cell_type": "code",
   "execution_count": null,
   "outputs": [],
   "source": [
    "# Label Each bar with the y-axis value\n",
    "def show_values_on_bars(axs):\n",
    "    def _show_on_single_plot(ax):        \n",
    "        for p in ax.patches:\n",
    "            _x = p.get_x() + p.get_width() / 2\n",
    "            _y = p.get_y() + p.get_height()\n",
    "            value = '{:.2f}'.format(p.get_height())\n",
    "            ax.text(_x, _y, value, ha=\"center\") \n",
    "\n",
    "    if isinstance(axs, np.ndarray):\n",
    "        for idx, ax in np.ndenumerate(axs):\n",
    "            _show_on_single_plot(ax)\n",
    "    else:\n",
    "        _show_on_single_plot(axs)"
   ],
   "metadata": {
    "collapsed": false,
    "pycharm": {
     "name": "#%%\n"
    }
   }
  },
  {
   "cell_type": "code",
   "execution_count": null,
   "outputs": [],
   "source": [
    "plt.figure(figsize=(10,5))\n",
    "fig = sns.countplot(x='Geog',hue='ServiceName',data=data)\n",
    "plt.grid(ls = '--')\n",
    "show_values_on_bars(fig)"
   ],
   "metadata": {
    "collapsed": false,
    "pycharm": {
     "name": "#%%\n"
    }
   }
  },
  {
   "cell_type": "markdown",
   "source": [
    "## Statistical charts for each reagion in each month"
   ],
   "metadata": {
    "collapsed": false
   }
  },
  {
   "cell_type": "code",
   "execution_count": null,
   "outputs": [],
   "source": [
    "# Plot function for each region\n",
    "def plot_each_region_alarm_number(areaDf):\n",
    "    plt.figure(figsize=(10,5))\n",
    "    g = sns.countplot(x='month',order=['01', '02', '03', '04','05', '06','07', '08','09', '10','11', '12'], data=areaDf)\n",
    "    plt.grid(ls = '--')\n",
    "    show_values_on_bars(g)"
   ],
   "metadata": {
    "collapsed": false,
    "pycharm": {
     "name": "#%%\n"
    }
   }
  },
  {
   "cell_type": "code",
   "execution_count": null,
   "outputs": [],
   "source": [
    "# Plot function for each region in each month\n",
    "def plot_each_region_alarm_number_in_each_month(areaDf_month):\n",
    "    plt.figure(figsize=(10,5))\n",
    "    g = sns.countplot(x='month',hue='ServiceName', data=areaDf_month, orient='h')\n",
    "    plt.grid(ls = '--')\n",
    "    show_values_on_bars(g)"
   ],
   "metadata": {
    "collapsed": false,
    "pycharm": {
     "name": "#%%\n"
    }
   }
  },
  {
   "cell_type": "markdown",
   "source": [
    "### 1. East Area"
   ],
   "metadata": {
    "collapsed": false
   }
  },
  {
   "cell_type": "code",
   "execution_count": null,
   "outputs": [],
   "source": [
    "# East \n",
    "plot_each_region_alarm_number(eastDf)"
   ],
   "metadata": {
    "collapsed": false,
    "pycharm": {
     "name": "#%%\n"
    }
   }
  },
  {
   "cell_type": "code",
   "execution_count": null,
   "outputs": [],
   "source": [
    "# East Month 1:\n",
    "plot_each_region_alarm_number_in_each_month(eastDf_1)"
   ],
   "metadata": {
    "collapsed": false,
    "pycharm": {
     "name": "#%%\n"
    }
   }
  },
  {
   "cell_type": "code",
   "execution_count": null,
   "outputs": [],
   "source": [
    "# East Month 2:\n",
    "plot_each_region_alarm_number_in_each_month(eastDf_2)"
   ],
   "metadata": {
    "collapsed": false,
    "pycharm": {
     "name": "#%%\n"
    }
   }
  },
  {
   "cell_type": "code",
   "execution_count": null,
   "outputs": [],
   "source": [
    "# East Month 3:\n",
    "plot_each_region_alarm_number_in_each_month(eastDf_3)"
   ],
   "metadata": {
    "collapsed": false,
    "pycharm": {
     "name": "#%%\n"
    }
   }
  },
  {
   "cell_type": "code",
   "execution_count": null,
   "outputs": [],
   "source": [
    "# East Month 4:\n",
    "plot_each_region_alarm_number_in_each_month(eastDf_4)"
   ],
   "metadata": {
    "collapsed": false,
    "pycharm": {
     "name": "#%%\n"
    }
   }
  },
  {
   "cell_type": "code",
   "execution_count": null,
   "outputs": [],
   "source": [
    "# East Month 5:\n",
    "plot_each_region_alarm_number_in_each_month(eastDf_5)"
   ],
   "metadata": {
    "collapsed": false,
    "pycharm": {
     "name": "#%%\n"
    }
   }
  },
  {
   "cell_type": "code",
   "execution_count": null,
   "outputs": [],
   "source": [
    "# East Month 6:\n",
    "plot_each_region_alarm_number_in_each_month(eastDf_6)"
   ],
   "metadata": {
    "collapsed": false,
    "pycharm": {
     "name": "#%%\n"
    }
   }
  },
  {
   "cell_type": "code",
   "execution_count": null,
   "outputs": [],
   "source": [
    "# East Month 7:\n",
    "plot_each_region_alarm_number_in_each_month(eastDf_7)"
   ],
   "metadata": {
    "collapsed": false,
    "pycharm": {
     "name": "#%%\n"
    }
   }
  },
  {
   "cell_type": "code",
   "execution_count": null,
   "outputs": [],
   "source": [
    "# East Month 8:\n",
    "plot_each_region_alarm_number_in_each_month(eastDf_8)"
   ],
   "metadata": {
    "collapsed": false,
    "pycharm": {
     "name": "#%%\n"
    }
   }
  },
  {
   "cell_type": "code",
   "execution_count": null,
   "outputs": [],
   "source": [
    "# East Month 9:\n",
    "plot_each_region_alarm_number_in_each_month(eastDf_9)"
   ],
   "metadata": {
    "collapsed": false,
    "pycharm": {
     "name": "#%%\n"
    }
   }
  },
  {
   "cell_type": "code",
   "execution_count": null,
   "outputs": [],
   "source": [
    "# East Month 10:\n",
    "plot_each_region_alarm_number_in_each_month(eastDf_10)"
   ],
   "metadata": {
    "collapsed": false,
    "pycharm": {
     "name": "#%%\n"
    }
   }
  },
  {
   "cell_type": "code",
   "execution_count": null,
   "outputs": [],
   "source": [
    "# East Month 11:\n",
    "plot_each_region_alarm_number_in_each_month(eastDf_11)"
   ],
   "metadata": {
    "collapsed": false,
    "pycharm": {
     "name": "#%%\n"
    }
   }
  },
  {
   "cell_type": "code",
   "execution_count": null,
   "outputs": [],
   "source": [
    "# East Month 12:\n",
    "plot_each_region_alarm_number_in_each_month(eastDf_12)"
   ],
   "metadata": {
    "collapsed": false,
    "pycharm": {
     "name": "#%%\n"
    }
   }
  },
  {
   "cell_type": "markdown",
   "source": [
    "### 2. North Area"
   ],
   "metadata": {
    "collapsed": false
   }
  },
  {
   "cell_type": "code",
   "execution_count": null,
   "outputs": [],
   "source": [
    "# North \n",
    "plot_each_region_alarm_number(northDf)"
   ],
   "metadata": {
    "collapsed": false,
    "pycharm": {
     "name": "#%%\n"
    }
   }
  },
  {
   "cell_type": "code",
   "execution_count": null,
   "outputs": [],
   "source": [
    "# North Month 1:\n",
    "plot_each_region_alarm_number_in_each_month(northDf_1)"
   ],
   "metadata": {
    "collapsed": false,
    "pycharm": {
     "name": "#%%\n"
    }
   }
  },
  {
   "cell_type": "code",
   "execution_count": null,
   "outputs": [],
   "source": [
    "# North Month 2:\n",
    "plot_each_region_alarm_number_in_each_month(northDf_2)"
   ],
   "metadata": {
    "collapsed": false,
    "pycharm": {
     "name": "#%%\n"
    }
   }
  },
  {
   "cell_type": "code",
   "execution_count": null,
   "outputs": [],
   "source": [
    "# North Month 3:\n",
    "plot_each_region_alarm_number_in_each_month(northDf_3)"
   ],
   "metadata": {
    "collapsed": false,
    "pycharm": {
     "name": "#%%\n"
    }
   }
  },
  {
   "cell_type": "code",
   "execution_count": null,
   "outputs": [],
   "source": [
    "# North Month 4:\n",
    "plot_each_region_alarm_number_in_each_month(northDf_4)"
   ],
   "metadata": {
    "collapsed": false,
    "pycharm": {
     "name": "#%%\n"
    }
   }
  },
  {
   "cell_type": "code",
   "execution_count": null,
   "outputs": [],
   "source": [
    "# North Month 5:\n",
    "plot_each_region_alarm_number_in_each_month(northDf_5)"
   ],
   "metadata": {
    "collapsed": false,
    "pycharm": {
     "name": "#%%\n"
    }
   }
  },
  {
   "cell_type": "code",
   "execution_count": null,
   "outputs": [],
   "source": [
    "# North Month 6:\n",
    "plot_each_region_alarm_number_in_each_month(northDf_6)"
   ],
   "metadata": {
    "collapsed": false,
    "pycharm": {
     "name": "#%%\n"
    }
   }
  },
  {
   "cell_type": "code",
   "execution_count": null,
   "outputs": [],
   "source": [
    "# North Month 7:\n",
    "plot_each_region_alarm_number_in_each_month(northDf_7)"
   ],
   "metadata": {
    "collapsed": false,
    "pycharm": {
     "name": "#%%\n"
    }
   }
  },
  {
   "cell_type": "code",
   "execution_count": null,
   "outputs": [],
   "source": [
    "# North Month 8:\n",
    "plot_each_region_alarm_number_in_each_month(northDf_8)"
   ],
   "metadata": {
    "collapsed": false,
    "pycharm": {
     "name": "#%%\n"
    }
   }
  },
  {
   "cell_type": "code",
   "execution_count": null,
   "outputs": [],
   "source": [
    "# North Month 9:\n",
    "plot_each_region_alarm_number_in_each_month(northDf_9)"
   ],
   "metadata": {
    "collapsed": false,
    "pycharm": {
     "name": "#%%\n"
    }
   }
  },
  {
   "cell_type": "code",
   "execution_count": null,
   "outputs": [],
   "source": [
    "# North Month 10:\n",
    "plot_each_region_alarm_number_in_each_month(northDf_10)"
   ],
   "metadata": {
    "collapsed": false,
    "pycharm": {
     "name": "#%%\n"
    }
   }
  },
  {
   "cell_type": "code",
   "execution_count": null,
   "outputs": [],
   "source": [
    "# North Month 11:\n",
    "plot_each_region_alarm_number_in_each_month(northDf_11)"
   ],
   "metadata": {
    "collapsed": false,
    "pycharm": {
     "name": "#%%\n"
    }
   }
  },
  {
   "cell_type": "code",
   "execution_count": null,
   "outputs": [],
   "source": [
    "# North Month 12:\n",
    "plot_each_region_alarm_number_in_each_month(northDf_12)"
   ],
   "metadata": {
    "collapsed": false,
    "pycharm": {
     "name": "#%%\n"
    }
   }
  },
  {
   "cell_type": "markdown",
   "source": [
    "### 3. West Area"
   ],
   "metadata": {
    "collapsed": false
   }
  },
  {
   "cell_type": "code",
   "execution_count": null,
   "outputs": [],
   "source": [
    "# West \n",
    "plot_each_region_alarm_number(westDf)"
   ],
   "metadata": {
    "collapsed": false,
    "pycharm": {
     "name": "#%%\n"
    }
   }
  },
  {
   "cell_type": "code",
   "execution_count": null,
   "outputs": [],
   "source": [
    "# West Month 1:\n",
    "plot_each_region_alarm_number_in_each_month(westDf_1)"
   ],
   "metadata": {
    "collapsed": false,
    "pycharm": {
     "name": "#%%\n"
    }
   }
  },
  {
   "cell_type": "code",
   "execution_count": null,
   "outputs": [],
   "source": [
    "# West Month 2:\n",
    "plot_each_region_alarm_number_in_each_month(westDf_2)"
   ],
   "metadata": {
    "collapsed": false,
    "pycharm": {
     "name": "#%%\n"
    }
   }
  },
  {
   "cell_type": "code",
   "execution_count": null,
   "outputs": [],
   "source": [
    "# West Month 3:\n",
    "plot_each_region_alarm_number_in_each_month(westDf_3)"
   ],
   "metadata": {
    "collapsed": false,
    "pycharm": {
     "name": "#%%\n"
    }
   }
  },
  {
   "cell_type": "code",
   "execution_count": null,
   "outputs": [],
   "source": [
    "# West Month 4:\n",
    "plot_each_region_alarm_number_in_each_month(westDf_4)"
   ],
   "metadata": {
    "collapsed": false,
    "pycharm": {
     "name": "#%%\n"
    }
   }
  },
  {
   "cell_type": "code",
   "execution_count": null,
   "outputs": [],
   "source": [
    "# West Month 5:\n",
    "plot_each_region_alarm_number_in_each_month(westDf_5)"
   ],
   "metadata": {
    "collapsed": false,
    "pycharm": {
     "name": "#%%\n"
    }
   }
  },
  {
   "cell_type": "code",
   "execution_count": null,
   "outputs": [],
   "source": [
    "# West Month 6:\n",
    "plot_each_region_alarm_number_in_each_month(westDf_6)"
   ],
   "metadata": {
    "collapsed": false,
    "pycharm": {
     "name": "#%%\n"
    }
   }
  },
  {
   "cell_type": "code",
   "execution_count": null,
   "outputs": [],
   "source": [
    "# West Month 7:\n",
    "plot_each_region_alarm_number_in_each_month(westDf_7)"
   ],
   "metadata": {
    "collapsed": false,
    "pycharm": {
     "name": "#%%\n"
    }
   }
  },
  {
   "cell_type": "code",
   "execution_count": null,
   "outputs": [],
   "source": [
    "# West Month 8:\n",
    "plot_each_region_alarm_number_in_each_month(westDf_8)"
   ],
   "metadata": {
    "collapsed": false,
    "pycharm": {
     "name": "#%%\n"
    }
   }
  },
  {
   "cell_type": "code",
   "execution_count": null,
   "outputs": [],
   "source": [
    "# West Month 9:\n",
    "plot_each_region_alarm_number_in_each_month(westDf_9)"
   ],
   "metadata": {
    "collapsed": false,
    "pycharm": {
     "name": "#%%\n"
    }
   }
  },
  {
   "cell_type": "code",
   "execution_count": null,
   "outputs": [],
   "source": [
    "# West Month 10:\n",
    "plot_each_region_alarm_number_in_each_month(westDf_10)"
   ],
   "metadata": {
    "collapsed": false,
    "pycharm": {
     "name": "#%%\n"
    }
   }
  },
  {
   "cell_type": "code",
   "execution_count": null,
   "outputs": [],
   "source": [
    "# West Month 11:\n",
    "plot_each_region_alarm_number_in_each_month(westDf_11)"
   ],
   "metadata": {
    "collapsed": false,
    "pycharm": {
     "name": "#%%\n"
    }
   }
  },
  {
   "cell_type": "code",
   "execution_count": null,
   "outputs": [],
   "source": [
    "# West Month 12:\n",
    "plot_each_region_alarm_number_in_each_month(westDf_12)\n",
    "\n",
    "\n"
   ],
   "metadata": {
    "collapsed": false,
    "pycharm": {
     "name": "#%%\n"
    }
   }
  }
 ],
 "metadata": {
  "kernelspec": {
   "display_name": "Python 3",
   "language": "python",
   "name": "python3"
  },
  "language_info": {
   "codemirror_mode": {
    "name": "ipython",
    "version": 3
   },
   "file_extension": ".py",
   "mimetype": "text/x-python",
   "name": "python",
   "nbconvert_exporter": "python",
   "pygments_lexer": "ipython3",
   "version": "3.8.3"
  },
  "pycharm": {
   "stem_cell": {
    "cell_type": "raw",
    "source": [],
    "metadata": {
     "collapsed": false
    }
   }
  }
 },
 "nbformat": 4,
 "nbformat_minor": 4
}
